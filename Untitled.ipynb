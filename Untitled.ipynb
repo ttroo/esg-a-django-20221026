{
 "cells": [
  {
   "cell_type": "code",
   "execution_count": 9,
   "id": "f6919f7c",
   "metadata": {},
   "outputs": [],
   "source": [
    "import os\n",
    "import django\n",
    "\n",
    "os.environ.setdefault(\"DJANGO_SETTINGS_MODULE\", \"do_it_django_prj.settings\")\n",
    "os.environ[\"DJANGO_ALLOW_ASYNC_UNSAFE\"] = \"true\"\n",
    "\n",
    "django.setup()"
   ]
  },
  {
   "cell_type": "code",
   "execution_count": 10,
   "id": "4d1a6b7d",
   "metadata": {},
   "outputs": [],
   "source": [
    "from diary.models import Diary"
   ]
  },
  {
   "cell_type": "code",
   "execution_count": 13,
   "id": "240b023d",
   "metadata": {},
   "outputs": [
    {
     "data": {
      "text/plain": [
       "<Diary: Diary object (8)>"
      ]
     },
     "execution_count": 13,
     "metadata": {},
     "output_type": "execute_result"
    }
   ],
   "source": [
    "# 데이터베이스에 즉시 저장\n",
    "\n",
    "Diary.objects.create(title = \"title#999\", message = \"message#999\")"
   ]
  },
  {
   "cell_type": "code",
   "execution_count": 14,
   "id": "698478c8",
   "metadata": {},
   "outputs": [],
   "source": [
    "memory = Diary()\n",
    "memory.title = \"title#2\"\n",
    "memory.message = \"message#2\"\n",
    "memory.save() # save 호출 시점에 저장"
   ]
  },
  {
   "cell_type": "code",
   "execution_count": 18,
   "id": "4d4816be",
   "metadata": {},
   "outputs": [
    {
     "data": {
      "text/plain": [
       "<Diary: Diary object (7)>"
      ]
     },
     "execution_count": 18,
     "metadata": {},
     "output_type": "execute_result"
    }
   ],
   "source": [
    "memory = Diary.objects.get(pk=7) # 지정 조건, 즉시 조회\n",
    "memory"
   ]
  },
  {
   "cell_type": "code",
   "execution_count": null,
   "id": "d702b4ed",
   "metadata": {},
   "outputs": [],
   "source": []
  },
  {
   "cell_type": "code",
   "execution_count": 19,
   "id": "fe73d6a8",
   "metadata": {},
   "outputs": [
    {
     "data": {
      "text/plain": [
       "100"
      ]
     },
     "execution_count": 19,
     "metadata": {},
     "output_type": "execute_result"
    }
   ],
   "source": [
    "# bulk create\n",
    "\n",
    "memory_list = []\n",
    "for i in range(100):\n",
    "    title = f\"new title #{i}\"\n",
    "    message = f\"new message #{i}\"\n",
    "    memory = Diary(title = title, message = message)\n",
    "    # memory.save() # 반복문에서 성능을 위해, 매번 save를 호출하지 않습니다.\n",
    "    \n",
    "    memory_list.append(memory)\n",
    "    \n",
    "len(memory_list)"
   ]
  },
  {
   "cell_type": "code",
   "execution_count": 20,
   "id": "c737a7f7",
   "metadata": {},
   "outputs": [
    {
     "data": {
      "text/plain": [
       "[<Diary: Diary object (10)>,\n",
       " <Diary: Diary object (11)>,\n",
       " <Diary: Diary object (12)>,\n",
       " <Diary: Diary object (13)>,\n",
       " <Diary: Diary object (14)>,\n",
       " <Diary: Diary object (15)>,\n",
       " <Diary: Diary object (16)>,\n",
       " <Diary: Diary object (17)>,\n",
       " <Diary: Diary object (18)>,\n",
       " <Diary: Diary object (19)>,\n",
       " <Diary: Diary object (20)>,\n",
       " <Diary: Diary object (21)>,\n",
       " <Diary: Diary object (22)>,\n",
       " <Diary: Diary object (23)>,\n",
       " <Diary: Diary object (24)>,\n",
       " <Diary: Diary object (25)>,\n",
       " <Diary: Diary object (26)>,\n",
       " <Diary: Diary object (27)>,\n",
       " <Diary: Diary object (28)>,\n",
       " <Diary: Diary object (29)>,\n",
       " <Diary: Diary object (30)>,\n",
       " <Diary: Diary object (31)>,\n",
       " <Diary: Diary object (32)>,\n",
       " <Diary: Diary object (33)>,\n",
       " <Diary: Diary object (34)>,\n",
       " <Diary: Diary object (35)>,\n",
       " <Diary: Diary object (36)>,\n",
       " <Diary: Diary object (37)>,\n",
       " <Diary: Diary object (38)>,\n",
       " <Diary: Diary object (39)>,\n",
       " <Diary: Diary object (40)>,\n",
       " <Diary: Diary object (41)>,\n",
       " <Diary: Diary object (42)>,\n",
       " <Diary: Diary object (43)>,\n",
       " <Diary: Diary object (44)>,\n",
       " <Diary: Diary object (45)>,\n",
       " <Diary: Diary object (46)>,\n",
       " <Diary: Diary object (47)>,\n",
       " <Diary: Diary object (48)>,\n",
       " <Diary: Diary object (49)>,\n",
       " <Diary: Diary object (50)>,\n",
       " <Diary: Diary object (51)>,\n",
       " <Diary: Diary object (52)>,\n",
       " <Diary: Diary object (53)>,\n",
       " <Diary: Diary object (54)>,\n",
       " <Diary: Diary object (55)>,\n",
       " <Diary: Diary object (56)>,\n",
       " <Diary: Diary object (57)>,\n",
       " <Diary: Diary object (58)>,\n",
       " <Diary: Diary object (59)>,\n",
       " <Diary: Diary object (60)>,\n",
       " <Diary: Diary object (61)>,\n",
       " <Diary: Diary object (62)>,\n",
       " <Diary: Diary object (63)>,\n",
       " <Diary: Diary object (64)>,\n",
       " <Diary: Diary object (65)>,\n",
       " <Diary: Diary object (66)>,\n",
       " <Diary: Diary object (67)>,\n",
       " <Diary: Diary object (68)>,\n",
       " <Diary: Diary object (69)>,\n",
       " <Diary: Diary object (70)>,\n",
       " <Diary: Diary object (71)>,\n",
       " <Diary: Diary object (72)>,\n",
       " <Diary: Diary object (73)>,\n",
       " <Diary: Diary object (74)>,\n",
       " <Diary: Diary object (75)>,\n",
       " <Diary: Diary object (76)>,\n",
       " <Diary: Diary object (77)>,\n",
       " <Diary: Diary object (78)>,\n",
       " <Diary: Diary object (79)>,\n",
       " <Diary: Diary object (80)>,\n",
       " <Diary: Diary object (81)>,\n",
       " <Diary: Diary object (82)>,\n",
       " <Diary: Diary object (83)>,\n",
       " <Diary: Diary object (84)>,\n",
       " <Diary: Diary object (85)>,\n",
       " <Diary: Diary object (86)>,\n",
       " <Diary: Diary object (87)>,\n",
       " <Diary: Diary object (88)>,\n",
       " <Diary: Diary object (89)>,\n",
       " <Diary: Diary object (90)>,\n",
       " <Diary: Diary object (91)>,\n",
       " <Diary: Diary object (92)>,\n",
       " <Diary: Diary object (93)>,\n",
       " <Diary: Diary object (94)>,\n",
       " <Diary: Diary object (95)>,\n",
       " <Diary: Diary object (96)>,\n",
       " <Diary: Diary object (97)>,\n",
       " <Diary: Diary object (98)>,\n",
       " <Diary: Diary object (99)>,\n",
       " <Diary: Diary object (100)>,\n",
       " <Diary: Diary object (101)>,\n",
       " <Diary: Diary object (102)>,\n",
       " <Diary: Diary object (103)>,\n",
       " <Diary: Diary object (104)>,\n",
       " <Diary: Diary object (105)>,\n",
       " <Diary: Diary object (106)>,\n",
       " <Diary: Diary object (107)>,\n",
       " <Diary: Diary object (108)>,\n",
       " <Diary: Diary object (109)>]"
      ]
     },
     "execution_count": 20,
     "metadata": {},
     "output_type": "execute_result"
    }
   ],
   "source": [
    "Diary.objects.bulk_create(memory_list)"
   ]
  },
  {
   "cell_type": "code",
   "execution_count": null,
   "id": "14137baa",
   "metadata": {},
   "outputs": [],
   "source": []
  },
  {
   "cell_type": "code",
   "execution_count": 21,
   "id": "b3d1c960",
   "metadata": {},
   "outputs": [
    {
     "data": {
      "text/plain": [
       "105"
      ]
     },
     "execution_count": 21,
     "metadata": {},
     "output_type": "execute_result"
    }
   ],
   "source": [
    "Diary.objects.all().count()"
   ]
  },
  {
   "cell_type": "code",
   "execution_count": 25,
   "id": "78ca208b",
   "metadata": {
    "scrolled": true
   },
   "outputs": [
    {
     "name": "stdout",
     "output_type": "stream",
     "text": [
      "19\n"
     ]
    }
   ],
   "source": [
    "qs = Diary.objects.filter(title__icontains = \"1\") # filter를 다수로 적용할 수도 있음\n",
    "# qs = qs.filter(...)\n",
    "print(qs.count())"
   ]
  },
  {
   "cell_type": "code",
   "execution_count": 26,
   "id": "e36ce40b",
   "metadata": {},
   "outputs": [
    {
     "name": "stdout",
     "output_type": "stream",
     "text": [
      "11 new title #1\n",
      "20 new title #10\n",
      "21 new title #11\n",
      "22 new title #12\n",
      "23 new title #13\n",
      "24 new title #14\n",
      "25 new title #15\n",
      "26 new title #16\n",
      "27 new title #17\n",
      "28 new title #18\n",
      "29 new title #19\n",
      "31 new title #21\n",
      "41 new title #31\n",
      "51 new title #41\n",
      "61 new title #51\n",
      "71 new title #61\n",
      "81 new title #71\n",
      "91 new title #81\n",
      "101 new title #91\n"
     ]
    }
   ],
   "source": [
    "for memory in qs:\n",
    "    print(memory.pk, memory.title)"
   ]
  },
  {
   "cell_type": "code",
   "execution_count": null,
   "id": "be6ec239",
   "metadata": {},
   "outputs": [],
   "source": []
  }
 ],
 "metadata": {
  "kernelspec": {
   "display_name": "Python 3 (ipykernel)",
   "language": "python",
   "name": "python3"
  },
  "language_info": {
   "codemirror_mode": {
    "name": "ipython",
    "version": 3
   },
   "file_extension": ".py",
   "mimetype": "text/x-python",
   "name": "python",
   "nbconvert_exporter": "python",
   "pygments_lexer": "ipython3",
   "version": "3.10.8"
  }
 },
 "nbformat": 4,
 "nbformat_minor": 5
}
